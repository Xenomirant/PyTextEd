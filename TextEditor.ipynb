{
 "cells": [
  {
   "cell_type": "code",
   "execution_count": null,
   "id": "3099121b-15bf-4998-8f9e-a7a7cb746714",
   "metadata": {},
   "outputs": [],
   "source": [
    "from dataclasses import dataclass\n",
    "from typing import *\n",
    "from abc import ABC, abstractmethod, abstractclassmethod\n",
    "import warnings"
   ]
  },
  {
   "cell_type": "markdown",
   "id": "3d1ea519-d627-4467-a276-ee12a727be13",
   "metadata": {},
   "source": [
    "### Возможно, не идеальное решение - все же классы работают не только обмениваясь обмениваясь базовыми типами через интерфейсы, а зависят друг от друга, что может усложнить рефакторинг. С другой стороны, это позволяет инкапсулировать логику работы внутрь классов согласно ТЗ и позволить просто класть операции в стек по ходу вызовов. \n",
    "\n",
    "### Единственная функция, не реализованная в логике классов - добавление в стек [redo] при взятии из [undo]. Предполагается имплементация в основном коде программы и вызове операций. \n",
    "\n",
    "Можно было бы вызывать и внутри push в \"undo_Stack\", но не хотелось бы добавлять зависимость одного класса от другого и добавлять параметры и так довольно перегруженным функциям."
   ]
  },
  {
   "cell_type": "code",
   "execution_count": 676,
   "id": "43cd86bf-5aab-4b42-bb27-be80ba540208",
   "metadata": {},
   "outputs": [],
   "source": [
    "class Stack():\n",
    "    \"\"\"\n",
    "    An abstract class for all the stack operations\n",
    "    \n",
    "    (Could have inhererited from list, but it has massive functional overhead in terms of methods\n",
    "    from which we basically need a few\")\n",
    "    \"\"\"\n",
    "    \n",
    "    def __init__(self) -> None:\n",
    "\n",
    "        self.__stack = []\n",
    "\n",
    "        return\n",
    "\n",
    "    def __iter__(self) -> Iterable:\n",
    "        '''\n",
    "        Return stack as iterable\n",
    "        '''\n",
    "        for item in self.__stack:\n",
    "            yield item\n",
    "        return\n",
    "\n",
    "    def __len__(self):\n",
    "        \"\"\"\n",
    "        Get length of the current stack\n",
    "        \"\"\"        \n",
    "        return len(self.__stack)\n",
    "\n",
    "    def __repr__(self) -> str:\n",
    "        return f\"{self.__stack}\"\n",
    "\n",
    "    def __getitem__(self, index: int) -> Any:\n",
    "        return self.__stack[index]\n",
    "\n",
    "    def size(self) -> int:\n",
    "        return len(self.__stack)\n",
    "\n",
    "\n",
    "    def pop(self, index: Optional[int] = -1) -> Any:\n",
    "        '''\n",
    "        Take top item (self-explanatory)\n",
    "        '''\n",
    "        if len(self.__stack) == 0:\n",
    "            raise IndexError(\"Can't pop from empty list\")\n",
    "\n",
    "        return self.__stack.pop(index)\n",
    "\n",
    "    \n",
    "    def push(self, element: Any, position: Optional[int] = -1) -> None:\n",
    "        '''\n",
    "        Add element to stack\n",
    "        '''\n",
    "        if not isinstance(position, int):\n",
    "            raise ValueError(\"Position must be of type integer\")\n",
    "\n",
    "        if position >= len(self.__stack):\n",
    "            raise ValueError(\"Position index out of range\")\n",
    "\n",
    "        if position != -1:\n",
    "            return self.__stack.insert(position, element)\n",
    "\n",
    "        return self.__stack.append(element)\n",
    "        \n",
    "            \n",
    "    \n",
    "    def clear(self) -> None:\n",
    "        '''\n",
    "        Empty the stack\n",
    "        '''\n",
    "        return self.__stack.clear()\n",
    "\n",
    "\n",
    "class undo_Stack(Stack):\n",
    "\n",
    "    def push(self, element: _Operation, text: Text, position: Optional[int] = -1) -> None:\n",
    "        '''\n",
    "        Apply changes on text before pushing to stack\n",
    "        '''\n",
    "        element.__call__(text)\n",
    "        \n",
    "        super().push(element, position)\n",
    "\n",
    "        return\n",
    "        \n",
    "\n",
    "    def pop(self, text: Text, index: Optional[int] = -1) -> _Operation:\n",
    "        '''\n",
    "        Apply changes when poping from stack to revert changes\n",
    "        '''\n",
    "        item = super().pop(index)\n",
    "\n",
    "        item.redo(text)\n",
    "\n",
    "        return item\n",
    "\n",
    "class redo_Stack(Stack):\n",
    "\n",
    "    # pushing already works as indended as poping from undo stack must trigger pushing to redo stack without further changes\n",
    "\n",
    "    def pop(self, text: Text, index: Optional[int] = -1) -> _Operation:\n",
    "        '''\n",
    "        Apply changes when poping from stack\n",
    "        '''\n",
    "        item = super().pop(index)\n",
    "\n",
    "        item.__call__(text)\n",
    "\n",
    "        return item\n",
    "    \n",
    "\n",
    "\n"
   ]
  },
  {
   "cell_type": "code",
   "execution_count": 677,
   "id": "8b0293ef-5468-4042-8938-b946cada194f",
   "metadata": {},
   "outputs": [],
   "source": [
    "class Text:\n",
    "    \"\"\"\n",
    "    Represent text\n",
    "    \"\"\"\n",
    "    def __init__(self) -> None:\n",
    "\n",
    "        self.text = \"\"\n",
    "        return \n",
    "\n",
    "    def __len__(self) -> int:\n",
    "        return len(self.text)\n",
    "    \n",
    "    def __repr__(self) -> str:\n",
    "        return self.text\n",
    "    \n",
    "    def __str__(self) -> str:\n",
    "        return self.text\n",
    "\n",
    "    def size(self) -> int:\n",
    "        return len(self.text)\n",
    "\n",
    "    def show(self) -> str:\n",
    "        return self.__str__()\n",
    "\n",
    "    def clear(self) -> None:\n",
    "        self.text = \"\"\n",
    "        return\n",
    "\n",
    "    #could have implemented opener and saver as separate classes but YAGNI\n",
    "    def open_text(self, path: str) -> None:\n",
    "\n",
    "        if len(self.text) != 0:\n",
    "            warnings.warn(\"Non-saved changes were overwritten while opening file\")\n",
    "\n",
    "        with open(path, \"r\") as f:\n",
    "            self.text = f.read()\n",
    "\n",
    "        return\n",
    "\n",
    "    def save_text(self, path: str) -> None:\n",
    "        \"\"\"\n",
    "        Suboptimal, better rewrite with libpath\n",
    "        \"\"\"\n",
    "        with open(path, \"w\") as f:\n",
    "            f.write(self.text)\n",
    "\n",
    "        return\n",
    "\n",
    "\n",
    "@dataclass(frozen=True)\n",
    "class TextElement():\n",
    "    \"\"\"\n",
    "    Just a simple placeholder for text with a possibility to be extended (ex. with metadata)\n",
    "    \"\"\"\n",
    "\n",
    "    string: str\n",
    "    position: Optional[int] = -1\n",
    "    edited: Optional[str] = \"\"\n",
    "\n"
   ]
  },
  {
   "cell_type": "code",
   "execution_count": 720,
   "id": "6ad9014f-774b-4a74-937a-b8ffaff0cf96",
   "metadata": {},
   "outputs": [],
   "source": [
    "class _Operation:\n",
    "    '''\n",
    "    Operation on text\n",
    "    '''\n",
    "\n",
    "    def __init__(self, string: str, position: Optional[int] = -1, edited: Optional[str] = \"\") -> None:\n",
    "\n",
    "        self.data = TextElement(string, position, edited)\n",
    "\n",
    "    def __call__(self, text: Text) -> Text:\n",
    "\n",
    "        ### just for convenience - overall should work with any text string, but i wanted it to work\n",
    "        ### with local class only\n",
    "        if not type(text) is Text:\n",
    "            raise ValueError(f\"Can't add to type {text}. Method not implemented.\")\n",
    "\n",
    "        if self.data.position > len(text):\n",
    "            raise ValueError(\"Can't use operation with position out of text\")\n",
    "\n",
    "        return \n",
    "\n",
    "\n",
    "class Add(_Operation):\n",
    "\n",
    "    def __call__(self, text: Text) -> Text:\n",
    "        \n",
    "        super().__call__(text)\n",
    "        if self.data.position >= 0:\n",
    "            text.text = text.text[:self.data.position] + self.data.string + \\\n",
    "            text.text[self.data.position + len(self.data.string):]\n",
    "\n",
    "            return text\n",
    "\n",
    "        text.text += self.data.string\n",
    "\n",
    "    def redo(self, text: Text) -> Text:\n",
    "\n",
    "        super().__call__(text)\n",
    "\n",
    "        l_str = len(self.data.string)\n",
    "\n",
    "        if self.data.position >= 0:\n",
    "            text.text = text.text[:self.data.position] + text.text[self.data.position + l_str:]\n",
    "        \n",
    "            return text\n",
    "\n",
    "        l_text = len(text.text)\n",
    "        text.text = text.text[:l_text - l_str]\n",
    "\n",
    "class Del(_Operation):\n",
    "\n",
    "    # make position necessary argument\n",
    "    def __init__(self, string: str, position: int, edited: Optional[str] = \"\") -> None:\n",
    "\n",
    "        if position < 0:\n",
    "            raise ValueError(\"Position must be positive\")\n",
    "        \n",
    "        self.data = TextElement(string, position, edited)\n",
    "\n",
    "    def __call__(self, text: Text) -> Text:\n",
    "        \n",
    "        super().__call__(text)\n",
    "\n",
    "        l_text = len(text.text)\n",
    "        l_str = len(self.data.string)\n",
    "\n",
    "        substring = text.text[self.data.position : self.data.position + l_str]\n",
    "\n",
    "        #sanity check\n",
    "        if self.data.string != substring:\n",
    "            raise ValueError(\"String specified for deletion doesn't match element in text\")\n",
    "\n",
    "        text.text = text.text[:self.data.position] + text.text[self.data.position + l_str:]\n",
    "\n",
    "        return text\n",
    "\n",
    "    def redo(self, text: Text) -> Text:\n",
    "\n",
    "        super().__call__(text)\n",
    "\n",
    "        l_str = len(self.data.string)\n",
    "\n",
    "        text.text = text.text[:self.data.position] + self.data.string + text.text[self.data.position:]\n",
    "        \n",
    "        return text\n",
    "\n",
    "\n",
    "## can be implemented as combination of Del and Add, but as for me - this approach is slightly better for reading\n",
    "class Replace(_Operation):\n",
    "    '''\n",
    "    string: substring to be changed\n",
    "    position: position in text\n",
    "    edited: substring to be inserted\n",
    "    '''\n",
    "    # keep possibility of using replace as delete with zero substitution\n",
    "    def __init__(self, string: str, position: int, edited: Optional[str] = \"\") -> None:\n",
    "\n",
    "        if position < 0:\n",
    "            raise ValueError(\"Position must be positive\")\n",
    "\n",
    "        self.data = TextElement(string, position, edited)\n",
    "    \n",
    "    def __call__(self, text: Text) -> Text:\n",
    "\n",
    "        super().__call__(text)\n",
    "\n",
    "        l_str = len(self.data.string)\n",
    "\n",
    "        substring = text.text[self.data.position:self.data.position+l_str]\n",
    "\n",
    "        #sanity check\n",
    "        if self.data.string != substring:\n",
    "            raise ValueError(\"String specified for deletion doesn't match element in text\")\n",
    "\n",
    "        text.text = text.text[:self.data.position] + self.data.edited + text.text[self.data.position + l_str:]\n",
    "\n",
    "        return text\n",
    "\n",
    "    def redo(self, text: Text) -> Text:\n",
    "        \n",
    "        super().__call__(text)\n",
    "\n",
    "        l_edit = len(self.data.edited)\n",
    "\n",
    "        text.text = text.text[:self.data.position] + self.data.string + text.text[self.data.position + l_edit:]\n",
    "\n",
    "        return text"
   ]
  },
  {
   "cell_type": "code",
   "execution_count": null,
   "id": "ca5a25e1-745a-438c-b6a6-4f87525be7ab",
   "metadata": {},
   "outputs": [],
   "source": []
  },
  {
   "cell_type": "markdown",
   "id": "821a2d3a-cd5d-4213-afb8-24c589dae1e9",
   "metadata": {},
   "source": [
    "### Unfortunately no pytest, just manual testing here"
   ]
  },
  {
   "cell_type": "code",
   "execution_count": 792,
   "id": "06e92bf3-0cb0-4f58-a34d-1db841b97c00",
   "metadata": {},
   "outputs": [],
   "source": [
    "t = Text()\n",
    "\n",
    "stack = undo_Stack()\n",
    "\n",
    "op = Add(\"items \")\n",
    "\n",
    "for i in range(3):\n",
    "    stack.push(op, t)"
   ]
  },
  {
   "cell_type": "code",
   "execution_count": 793,
   "id": "b5813771-f77b-41bf-88fa-0626b52e6908",
   "metadata": {},
   "outputs": [
    {
     "data": {
      "text/plain": [
       "[<__main__.Add object at 0x7f6d24dffdd0>, <__main__.Add object at 0x7f6d24dffdd0>, <__main__.Add object at 0x7f6d24dffdd0>]"
      ]
     },
     "execution_count": 793,
     "metadata": {},
     "output_type": "execute_result"
    }
   ],
   "source": [
    "stack"
   ]
  },
  {
   "cell_type": "code",
   "execution_count": 794,
   "id": "a4044e74-95eb-4828-a784-c809ce0792aa",
   "metadata": {},
   "outputs": [
    {
     "data": {
      "text/plain": [
       "items items items "
      ]
     },
     "execution_count": 794,
     "metadata": {},
     "output_type": "execute_result"
    }
   ],
   "source": [
    "t"
   ]
  },
  {
   "cell_type": "code",
   "execution_count": 795,
   "id": "fd722d70-7c91-41ce-9e52-d9e26d908a3e",
   "metadata": {},
   "outputs": [
    {
     "data": {
      "text/plain": [
       "items items ite "
      ]
     },
     "execution_count": 795,
     "metadata": {},
     "output_type": "execute_result"
    }
   ],
   "source": [
    "stack.push(Del(\"ms\", 15), t)\n",
    "\n",
    "t"
   ]
  },
  {
   "cell_type": "code",
   "execution_count": 796,
   "id": "23c512bc-072a-42bc-9d28-58edd5c366eb",
   "metadata": {},
   "outputs": [
    {
     "data": {
      "text/plain": [
       "items ims ite "
      ]
     },
     "execution_count": 796,
     "metadata": {},
     "output_type": "execute_result"
    }
   ],
   "source": [
    "stack.push(Del(\"te\", 7), t)\n",
    "\n",
    "t"
   ]
  },
  {
   "cell_type": "code",
   "execution_count": 797,
   "id": "4a616fc9-c85c-4779-9a7e-d7e5cf12d435",
   "metadata": {},
   "outputs": [
    {
     "data": {
      "text/plain": [
       "items ims i"
      ]
     },
     "execution_count": 797,
     "metadata": {},
     "output_type": "execute_result"
    }
   ],
   "source": [
    "stack.push(Replace(\"te \", 11), t)\n",
    "\n",
    "t"
   ]
  },
  {
   "cell_type": "code",
   "execution_count": 798,
   "id": "d1116d69-cfc1-49e1-a8af-c3c758672705",
   "metadata": {},
   "outputs": [
    {
     "data": {
      "text/plain": [
       "items ims abc"
      ]
     },
     "execution_count": 798,
     "metadata": {},
     "output_type": "execute_result"
    }
   ],
   "source": [
    "stack.push(Replace(\"i\", 10, \"abc\"), t)\n",
    "\n",
    "t"
   ]
  },
  {
   "cell_type": "code",
   "execution_count": null,
   "id": "8d6bfd29-d90c-455f-a06e-9607c6d934de",
   "metadata": {},
   "outputs": [],
   "source": []
  },
  {
   "cell_type": "code",
   "execution_count": 799,
   "id": "6b5ed1c6-a15a-4e44-8a59-5abea445e939",
   "metadata": {},
   "outputs": [],
   "source": [
    "r_stack = redo_Stack()"
   ]
  },
  {
   "cell_type": "code",
   "execution_count": 800,
   "id": "c594a754-d1c1-48e1-9ebd-37c9a79567a8",
   "metadata": {},
   "outputs": [
    {
     "name": "stdout",
     "output_type": "stream",
     "text": [
      "items ims i\n",
      "items ims ite \n",
      "items items ite \n",
      "items items items \n",
      "items items \n",
      "items \n",
      "\n"
     ]
    }
   ],
   "source": [
    "while stack:\n",
    "    \n",
    "    item = stack.pop(t)\n",
    "    r_stack.push(item)\n",
    "    print(t)"
   ]
  },
  {
   "cell_type": "code",
   "execution_count": 801,
   "id": "4814aca6-a51d-44fc-8397-85757b315b0d",
   "metadata": {},
   "outputs": [
    {
     "data": {
      "text/plain": [
       "[<__main__.Replace object at 0x7f6d255ee3d0>, <__main__.Replace object at 0x7f6d24e5ff10>, <__main__.Del object at 0x7f6d252e5810>, <__main__.Del object at 0x7f6d2545cd90>, <__main__.Add object at 0x7f6d24dffdd0>, <__main__.Add object at 0x7f6d24dffdd0>, <__main__.Add object at 0x7f6d24dffdd0>]"
      ]
     },
     "execution_count": 801,
     "metadata": {},
     "output_type": "execute_result"
    }
   ],
   "source": [
    "r_stack"
   ]
  },
  {
   "cell_type": "code",
   "execution_count": 802,
   "id": "42c2dae2-eead-4dc4-b414-ba4856f767bd",
   "metadata": {
    "scrolled": true
   },
   "outputs": [
    {
     "name": "stdout",
     "output_type": "stream",
     "text": [
      "items \n",
      "items items \n",
      "items items items \n",
      "items items ite \n",
      "items ims ite \n",
      "items ims i\n",
      "items ims abc\n"
     ]
    }
   ],
   "source": [
    "while r_stack:\n",
    "\n",
    "    item = r_stack.pop(t)\n",
    "\n",
    "    print(t)"
   ]
  }
 ],
 "metadata": {
  "kernelspec": {
   "display_name": "Python 3 (ipykernel)",
   "language": "python",
   "name": "python3"
  },
  "language_info": {
   "codemirror_mode": {
    "name": "ipython",
    "version": 3
   },
   "file_extension": ".py",
   "mimetype": "text/x-python",
   "name": "python",
   "nbconvert_exporter": "python",
   "pygments_lexer": "ipython3",
   "version": "3.11.5"
  }
 },
 "nbformat": 4,
 "nbformat_minor": 5
}
