{
 "cells": [
  {
   "cell_type": "code",
   "execution_count": 121,
   "id": "43cd86bf-5aab-4b42-bb27-be80ba540208",
   "metadata": {},
   "outputs": [],
   "source": [
    "from dataclasses import dataclass\n",
    "from typing import *\n",
    "from abc import ABC, abstractmethod, abstractclassmethod\n",
    "\n",
    "\n",
    "@dataclass\n",
    "class TextElement():\n",
    "    \"\"\"\n",
    "    Just a simple placeholder for text with a possibility to be extended (ex. with metadata)\n",
    "    \"\"\"\n",
    "\n",
    "    string: str\n",
    "    Operation_type: str\n",
    "    position: Optional[int] = None\n",
    "\n",
    "\n",
    "\n",
    "class Stack(ABC):\n",
    "    \"\"\"\n",
    "    An abstract class for all the stack operations\n",
    "    \n",
    "    (Could have inhererited from list, but it has massive functional overhead in terms of methods\n",
    "    from which we basically need a few\")\n",
    "    \"\"\"\n",
    "    \n",
    "    def __init__(self) -> None:\n",
    "\n",
    "        self.__stack = []\n",
    "\n",
    "        return\n",
    "\n",
    "    def __iter__(self) -> Iterable:\n",
    "        '''\n",
    "        Return stack as iterable\n",
    "        '''\n",
    "        for item in self.__stack:\n",
    "            yield item\n",
    "        return\n",
    "\n",
    "    def __len__(self):\n",
    "        \"\"\"\n",
    "        Get length of the current stack\n",
    "        \"\"\"        \n",
    "        return len(self.__stack)\n",
    "\n",
    "    def __repr__(self) -> str:\n",
    "        return f\"{self.__stack}\"\n",
    "\n",
    "    def __getitem__(self, index: int) -> Any:\n",
    "        return self.__stack[index]\n",
    "\n",
    "    def size(self) -> int:\n",
    "        return len(self.__stack)\n",
    "\n",
    "\n",
    "    def pop(self, index: int) -> List:\n",
    "        '''\n",
    "        Take top item (self-explanatory)\n",
    "        '''\n",
    "        if len(self.__stack) == 0:\n",
    "            raise IndexError(\"Can't pop from empty list\")\n",
    "\n",
    "        return self.__stack.pop()\n",
    "\n",
    "    \n",
    "    def push(self, element: Any, position: Optional[int] = None) -> None:\n",
    "        '''\n",
    "        Add element to stack\n",
    "        '''\n",
    "\n",
    "        if not position is None:\n",
    "            if type(position) != \"int\":\n",
    "                raise ValueError(\"Position must be of type integer\")\n",
    "\n",
    "            if position >= len(self.__stack):\n",
    "                raise ValueError(\"Position index out of range\")\n",
    "\n",
    "            return self.__stack.insert(position, element)\n",
    "\n",
    "        return self.__stack.append(element)\n",
    "        \n",
    "            \n",
    "    \n",
    "    def clear(self) -> None:\n",
    "        '''\n",
    "        Empty the stack\n",
    "        '''\n",
    "        return self.__stack.clear()\n",
    "\n",
    "\n",
    "class Text(Stack):\n",
    "    \"\"\"\n",
    "    Represent text\n",
    "    \"\"\"\n",
    "\n",
    "    def __str__(self) -> str:\n",
    "        return \" \".join([x for x in self.__stack])\n",
    "\n",
    "    def __repl__(self) -> str:\n",
    "        return \" \".join([x for x in self.__stack])\n",
    "\n",
    "    def show(self) -> str:\n",
    "\n",
    "        return self.__str__()\n",
    "\n",
    "\n",
    "\n",
    "    \n",
    "\n",
    "class Operation(ABC):\n",
    "    '''\n",
    "    Operation on text\n",
    "    '''\n",
    "    @abstractclassmethod\n",
    "    def __call__(self, string: str, position: Optional[int], length: Optional[int]) -> TextElement:\n",
    "        pass\n",
    "\n",
    "\n",
    "class Add(Operation):\n",
    "\n",
    "    def __call__(self, string, position: Optional[int], length: Optional[int] = None):\n",
    "\n",
    "        return super()\n",
    "\n",
    "        "
   ]
  },
  {
   "cell_type": "code",
   "execution_count": 111,
   "id": "9946dfbf-ca82-4367-8a08-6f894ae2f64a",
   "metadata": {},
   "outputs": [],
   "source": [
    "stack1 = Stack()\n"
   ]
  },
  {
   "cell_type": "code",
   "execution_count": 112,
   "id": "3f1b4ff3-8968-4fe3-8206-2e5f277a5784",
   "metadata": {},
   "outputs": [],
   "source": [
    "stack2 = Stack()"
   ]
  },
  {
   "cell_type": "code",
   "execution_count": 117,
   "id": "e156202c-ec79-4ae8-853c-a18bdf184acc",
   "metadata": {},
   "outputs": [],
   "source": [
    "stack1.push(1)\n",
    "\n",
    "stack2.push(3)"
   ]
  },
  {
   "cell_type": "code",
   "execution_count": 118,
   "id": "b7331a56-670d-47ea-a9a1-091fa34c09ab",
   "metadata": {},
   "outputs": [
    {
     "data": {
      "text/plain": [
       "(None, [1, 1, 1, 1, 1], [3, 3, 3, 3, 3])"
      ]
     },
     "execution_count": 118,
     "metadata": {},
     "output_type": "execute_result"
    }
   ],
   "source": [
    "stack = stack1 + stack2\n",
    "\n",
    "(stack, stack1, stack2)"
   ]
  },
  {
   "cell_type": "code",
   "execution_count": null,
   "id": "e7fa1305-2465-4c4b-9967-cbf2c2a5ae70",
   "metadata": {},
   "outputs": [],
   "source": []
  },
  {
   "cell_type": "code",
   "execution_count": 45,
   "id": "0dba462c-c130-49a8-a01c-8cc7024c0cc8",
   "metadata": {},
   "outputs": [
    {
     "data": {
      "text/plain": [
       "[12, 2, 3, [2], 4, 5, 6, [2], [2], [3, 4]]"
      ]
     },
     "execution_count": 45,
     "metadata": {},
     "output_type": "execute_result"
    }
   ],
   "source": [
    "Change"
   ]
  },
  {
   "cell_type": "code",
   "execution_count": 35,
   "id": "956e74a1-2131-49da-943f-0e1de814eb88",
   "metadata": {},
   "outputs": [
    {
     "ename": "IndexError",
     "evalue": "pop from empty list",
     "output_type": "error",
     "traceback": [
      "\u001b[0;31m---------------------------------------------------------------------------\u001b[0m",
      "\u001b[0;31mIndexError\u001b[0m                                Traceback (most recent call last)",
      "Cell \u001b[0;32mIn[35], line 3\u001b[0m\n\u001b[1;32m      1\u001b[0m Change\u001b[38;5;241m.\u001b[39mclear()\n\u001b[0;32m----> 3\u001b[0m \u001b[43mChange\u001b[49m\u001b[38;5;241;43m.\u001b[39;49m\u001b[43mpop\u001b[49m\u001b[43m(\u001b[49m\u001b[43m)\u001b[49m\n",
      "\u001b[0;31mIndexError\u001b[0m: pop from empty list"
     ]
    }
   ],
   "source": [
    "Change.clear()\n",
    "\n",
    "Change.pop()"
   ]
  },
  {
   "cell_type": "code",
   "execution_count": 93,
   "id": "34f5b39b-ee8d-4cbf-a16b-73e3b43e2991",
   "metadata": {},
   "outputs": [
    {
     "data": {
      "text/plain": [
       "['__add__',\n",
       " '__class__',\n",
       " '__class_getitem__',\n",
       " '__contains__',\n",
       " '__delattr__',\n",
       " '__delitem__',\n",
       " '__dir__',\n",
       " '__doc__',\n",
       " '__eq__',\n",
       " '__format__',\n",
       " '__ge__',\n",
       " '__getattribute__',\n",
       " '__getitem__',\n",
       " '__getstate__',\n",
       " '__gt__',\n",
       " '__hash__',\n",
       " '__iadd__',\n",
       " '__imul__',\n",
       " '__init__',\n",
       " '__init_subclass__',\n",
       " '__iter__',\n",
       " '__le__',\n",
       " '__len__',\n",
       " '__lt__',\n",
       " '__mul__',\n",
       " '__ne__',\n",
       " '__new__',\n",
       " '__reduce__',\n",
       " '__reduce_ex__',\n",
       " '__repr__',\n",
       " '__reversed__',\n",
       " '__rmul__',\n",
       " '__setattr__',\n",
       " '__setitem__',\n",
       " '__sizeof__',\n",
       " '__str__',\n",
       " '__subclasshook__',\n",
       " 'append',\n",
       " 'clear',\n",
       " 'copy',\n",
       " 'count',\n",
       " 'extend',\n",
       " 'index',\n",
       " 'insert',\n",
       " 'pop',\n",
       " 'remove',\n",
       " 'reverse',\n",
       " 'sort']"
      ]
     },
     "execution_count": 93,
     "metadata": {},
     "output_type": "execute_result"
    }
   ],
   "source": [
    "dir(list)"
   ]
  },
  {
   "cell_type": "code",
   "execution_count": null,
   "id": "023af8a6-623d-4929-a91b-8d75c135f14b",
   "metadata": {},
   "outputs": [],
   "source": []
  }
 ],
 "metadata": {
  "kernelspec": {
   "display_name": "Python 3 (ipykernel)",
   "language": "python",
   "name": "python3"
  },
  "language_info": {
   "codemirror_mode": {
    "name": "ipython",
    "version": 3
   },
   "file_extension": ".py",
   "mimetype": "text/x-python",
   "name": "python",
   "nbconvert_exporter": "python",
   "pygments_lexer": "ipython3",
   "version": "3.11.5"
  }
 },
 "nbformat": 4,
 "nbformat_minor": 5
}
